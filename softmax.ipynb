{
 "cells": [
  {
   "cell_type": "markdown",
   "metadata": {
    "tags": [
     "pdf-title"
    ]
   },
   "source": [
    "# Softmax exercise\n",
    "\n",
    "*Complete and hand in this completed worksheet (including its outputs and any supporting code outside of the worksheet) with your assignment submission. For more details see the [assignments page](http://vision.stanford.edu/teaching/cs231n/assignments.html) on the course website.*\n",
    "\n",
    "This exercise is analogous to the SVM exercise. You will:\n",
    "\n",
    "- implement a fully-vectorized **loss function** for the Softmax classifier\n",
    "- implement the fully-vectorized expression for its **analytic gradient**\n",
    "- **check your implementation** with numerical gradient\n",
    "- use a validation set to **tune the learning rate and regularization** strength\n",
    "- **optimize** the loss function with **SGD**\n",
    "- **visualize** the final learned weights\n"
   ]
  },
  {
   "cell_type": "code",
   "execution_count": 1,
   "metadata": {
    "tags": [
     "pdf-ignore"
    ]
   },
   "outputs": [],
   "source": [
    "import random\n",
    "import numpy as np\n",
    "from cs231n.data_utils import load_CIFAR10\n",
    "import matplotlib.pyplot as plt\n",
    "\n",
    "%matplotlib inline\n",
    "plt.rcParams['figure.figsize'] = (10.0, 8.0) # set default size of plots\n",
    "plt.rcParams['image.interpolation'] = 'nearest'\n",
    "plt.rcParams['image.cmap'] = 'gray'\n",
    "\n",
    "# for auto-reloading extenrnal modules\n",
    "# see http://stackoverflow.com/questions/1907993/autoreload-of-modules-in-ipython\n",
    "%load_ext autoreload\n",
    "%autoreload 2"
   ]
  },
  {
   "cell_type": "code",
   "execution_count": 3,
   "metadata": {
    "tags": [
     "pdf-ignore"
    ]
   },
   "outputs": [
    {
     "name": "stdout",
     "output_type": "stream",
     "text": [
      "Train data shape:  (49000, 3073)\n",
      "Train labels shape:  (49000,)\n",
      "Validation data shape:  (1000, 3073)\n",
      "Validation labels shape:  (1000,)\n",
      "Test data shape:  (1000, 3073)\n",
      "Test labels shape:  (1000,)\n",
      "dev data shape:  (500, 3073)\n",
      "dev labels shape:  (500,)\n"
     ]
    }
   ],
   "source": [
    "def get_CIFAR10_data(num_training=49000, num_validation=1000, num_test=1000, num_dev=500):\n",
    "    \"\"\"\n",
    "    Load the CIFAR-10 dataset from disk and perform preprocessing to prepare\n",
    "    it for the linear classifier. These are the same steps as we used for the\n",
    "    SVM, but condensed to a single function.  \n",
    "    \"\"\"\n",
    "    # Load the raw CIFAR-10 data\n",
    "    cifar10_dir = 'cs231n/datasets/cifar-10-batches-py'\n",
    "    \n",
    "    # Cleaning up variables to prevent loading data multiple times (which may cause memory issue)\n",
    "    try:\n",
    "       del X_train, y_train\n",
    "       del X_test, y_test\n",
    "       print('Clear previously loaded data.')\n",
    "    except:\n",
    "       pass\n",
    "\n",
    "    X_train, y_train, X_test, y_test = load_CIFAR10(cifar10_dir)\n",
    "    \n",
    "    # subsample the data\n",
    "    mask = list(range(num_training, num_training + num_validation))\n",
    "    X_val = X_train[mask]\n",
    "    y_val = y_train[mask]\n",
    "    mask = list(range(num_training))\n",
    "    X_train = X_train[mask]\n",
    "    y_train = y_train[mask]\n",
    "    mask = list(range(num_test))\n",
    "    X_test = X_test[mask]\n",
    "    y_test = y_test[mask]\n",
    "    mask = np.random.choice(num_training, num_dev, replace=False)\n",
    "    X_dev = X_train[mask]\n",
    "    y_dev = y_train[mask]\n",
    "    \n",
    "    # Preprocessing: reshape the image data into rows\n",
    "    X_train = np.reshape(X_train, (X_train.shape[0], -1))\n",
    "    X_val = np.reshape(X_val, (X_val.shape[0], -1))\n",
    "    X_test = np.reshape(X_test, (X_test.shape[0], -1))\n",
    "    X_dev = np.reshape(X_dev, (X_dev.shape[0], -1))\n",
    "    \n",
    "    # Normalize the data: subtract the mean image\n",
    "    mean_image = np.mean(X_train, axis = 0)\n",
    "    X_train -= mean_image\n",
    "    X_val -= mean_image\n",
    "    X_test -= mean_image\n",
    "    X_dev -= mean_image\n",
    "    \n",
    "    # add bias dimension and transform into columns\n",
    "    X_train = np.hstack([X_train, np.ones((X_train.shape[0], 1))])\n",
    "    X_val = np.hstack([X_val, np.ones((X_val.shape[0], 1))])\n",
    "    X_test = np.hstack([X_test, np.ones((X_test.shape[0], 1))])\n",
    "    X_dev = np.hstack([X_dev, np.ones((X_dev.shape[0], 1))])\n",
    "    \n",
    "    return X_train, y_train, X_val, y_val, X_test, y_test, X_dev, y_dev\n",
    "\n",
    "\n",
    "# Invoke the above function to get our data.\n",
    "X_train, y_train, X_val, y_val, X_test, y_test, X_dev, y_dev = get_CIFAR10_data()\n",
    "print('Train data shape: ', X_train.shape)\n",
    "print('Train labels shape: ', y_train.shape)\n",
    "print('Validation data shape: ', X_val.shape)\n",
    "print('Validation labels shape: ', y_val.shape)\n",
    "print('Test data shape: ', X_test.shape)\n",
    "print('Test labels shape: ', y_test.shape)\n",
    "print('dev data shape: ', X_dev.shape)\n",
    "print('dev labels shape: ', y_dev.shape)"
   ]
  },
  {
   "cell_type": "markdown",
   "metadata": {},
   "source": [
    "## Softmax Classifier\n",
    "\n",
    "Your code for this section will all be written inside **cs231n/classifiers/softmax.py**. \n"
   ]
  },
  {
   "cell_type": "code",
   "execution_count": 4,
   "metadata": {},
   "outputs": [
    {
     "name": "stdout",
     "output_type": "stream",
     "text": [
      "loss: 2.412318\n",
      "sanity check: 2.302585\n"
     ]
    }
   ],
   "source": [
    "# First implement the naive softmax loss function with nested loops.\n",
    "# Open the file cs231n/classifiers/softmax.py and implement the\n",
    "# softmax_loss_naive function.\n",
    "\n",
    "from cs231n.classifiers.softmax import softmax_loss_naive, softmax_loss_vectorized\n",
    "import time\n",
    "\n",
    "# Generate a random softmax weight matrix and use it to compute the loss.\n",
    "W = np.random.randn(3073, 10) * 0.0001\n",
    "loss, grad = softmax_loss_naive(W, X_dev, y_dev, 0.0)\n",
    "# loss, grad = softmax_loss_vectorized(W, X_dev, y_dev, 0.0)\n",
    "\n",
    "# As a rough sanity check, our loss should be something close to -log(0.1).\n",
    "print('loss: %f' % loss)\n",
    "print('sanity check: %f' % (-np.log(0.1)))"
   ]
  },
  {
   "cell_type": "markdown",
   "metadata": {
    "tags": [
     "pdf-inline"
    ]
   },
   "source": [
    "**Inline Question 1**\n",
    "\n",
    "Why do we expect our loss to be close to -log(0.1)? Explain briefly.**\n",
    "\n",
    "$\\color{blue}{\\textit Your Answer:}$ *Because there are 10 classes in the CIFAR-10 dataset, so probably at the beginning is 1/10, i.e : 0.1* \n",
    "\n"
   ]
  },
  {
   "cell_type": "code",
   "execution_count": 5,
   "metadata": {},
   "outputs": [
    {
     "name": "stdout",
     "output_type": "stream",
     "text": [
      "numerical: -0.507759 analytic: -0.507759, relative error: 2.474019e-08\n",
      "numerical: 0.450034 analytic: 0.450034, relative error: 1.004771e-07\n",
      "numerical: -0.006841 analytic: -0.006841, relative error: 1.154724e-05\n",
      "numerical: -0.109494 analytic: -0.109494, relative error: 1.631253e-07\n",
      "numerical: 4.354205 analytic: 4.354205, relative error: 1.792928e-08\n",
      "numerical: 0.661675 analytic: 0.661675, relative error: 2.280892e-08\n",
      "numerical: 1.327715 analytic: 1.327715, relative error: 9.089385e-08\n",
      "numerical: -0.302724 analytic: -0.302724, relative error: 9.654304e-08\n",
      "numerical: 1.415450 analytic: 1.415450, relative error: 2.211625e-08\n",
      "numerical: 0.218624 analytic: 0.218624, relative error: 4.217023e-07\n",
      "numerical: 1.034813 analytic: 1.034813, relative error: 6.013432e-08\n",
      "numerical: -0.582590 analytic: -0.582590, relative error: 6.089470e-08\n",
      "numerical: 0.975050 analytic: 0.975050, relative error: 3.921174e-08\n",
      "numerical: -0.525156 analytic: -0.525156, relative error: 3.644079e-09\n",
      "numerical: 1.141102 analytic: 1.141102, relative error: 1.272301e-08\n",
      "numerical: 1.804191 analytic: 1.804191, relative error: 2.079931e-09\n",
      "numerical: 0.687328 analytic: 0.687328, relative error: 1.082283e-07\n",
      "numerical: 0.540083 analytic: 0.540083, relative error: 1.964473e-08\n",
      "numerical: 4.490209 analytic: 4.490208, relative error: 2.341293e-08\n",
      "numerical: 1.064087 analytic: 1.064087, relative error: 7.747505e-08\n"
     ]
    }
   ],
   "source": [
    "# Complete the implementation of softmax_loss_naive and implement a (naive)\n",
    "# version of the gradient that uses nested loops.\n",
    "loss, grad = softmax_loss_naive(W, X_dev, y_dev, 0.0)\n",
    "\n",
    "# As we did for the SVM, use numeric gradient checking as a debugging tool.\n",
    "# The numeric gradient should be close to the analytic gradient.\n",
    "from cs231n.gradient_check import grad_check_sparse\n",
    "f = lambda w: softmax_loss_naive(w, X_dev, y_dev, 0.0)[0]\n",
    "grad_numerical = grad_check_sparse(f, W, grad, 10)\n",
    "\n",
    "# similar to SVM case, do another gradient check with regularization\n",
    "loss, grad = softmax_loss_naive(W, X_dev, y_dev, 5e1)\n",
    "f = lambda w: softmax_loss_naive(w, X_dev, y_dev, 5e1)[0]\n",
    "grad_numerical = grad_check_sparse(f, W, grad, 10)"
   ]
  },
  {
   "cell_type": "code",
   "execution_count": 6,
   "metadata": {},
   "outputs": [
    {
     "name": "stdout",
     "output_type": "stream",
     "text": [
      "naive loss: 2.412318e+00 computed in 0.120069s\n",
      "vectorized loss: 2.412318e+00 computed in 0.009345s\n",
      "Loss difference: 0.000000\n",
      "Gradient difference: 0.000000\n"
     ]
    }
   ],
   "source": [
    "# Now that we have a naive implementation of the softmax loss function and its gradient,\n",
    "# implement a vectorized version in softmax_loss_vectorized.\n",
    "# The two versions should compute the same results, but the vectorized version should be\n",
    "# much faster.\n",
    "tic = time.time()\n",
    "loss_naive, grad_naive = softmax_loss_naive(W, X_dev, y_dev, 0.000005)\n",
    "toc = time.time()\n",
    "print('naive loss: %e computed in %fs' % (loss_naive, toc - tic))\n",
    "\n",
    "from cs231n.classifiers.softmax import softmax_loss_vectorized\n",
    "tic = time.time()\n",
    "loss_vectorized, grad_vectorized = softmax_loss_vectorized(W, X_dev, y_dev, 0.000005)\n",
    "toc = time.time()\n",
    "print('vectorized loss: %e computed in %fs' % (loss_vectorized, toc - tic))\n",
    "\n",
    "# As we did for the SVM, we use the Frobenius norm to compare the two versions\n",
    "# of the gradient.\n",
    "grad_difference = np.linalg.norm(grad_naive - grad_vectorized, ord='fro')\n",
    "print('Loss difference: %f' % np.abs(loss_naive - loss_vectorized))\n",
    "print('Gradient difference: %f' % grad_difference)"
   ]
  },
  {
   "cell_type": "code",
   "execution_count": 7,
   "metadata": {
    "tags": [
     "code"
    ]
   },
   "outputs": [
    {
     "name": "stdout",
     "output_type": "stream",
     "text": [
      "**********************************\n",
      " lr: 0.00000010, reg: 25000.00\n",
      "iteration 0 / 1500: loss 774.446002\n",
      "iteration 100 / 1500: loss 284.367744\n",
      "iteration 200 / 1500: loss 105.416991\n",
      "iteration 300 / 1500: loss 39.894926\n",
      "iteration 400 / 1500: loss 15.929088\n",
      "iteration 500 / 1500: loss 7.138234\n",
      "iteration 600 / 1500: loss 3.972582\n",
      "iteration 700 / 1500: loss 2.718873\n",
      "iteration 800 / 1500: loss 2.321367\n",
      "iteration 900 / 1500: loss 2.174475\n",
      "iteration 1000 / 1500: loss 2.098391\n",
      "iteration 1100 / 1500: loss 2.096745\n",
      "iteration 1200 / 1500: loss 2.094778\n",
      "iteration 1300 / 1500: loss 2.012020\n",
      "iteration 1400 / 1500: loss 2.111584\n",
      "train accuracy: 0.3308\n",
      "validation accuracy: 0.3410\n",
      "**********************************\n",
      " lr: 0.00000010, reg: 50000.00\n",
      "iteration 0 / 1500: loss 1545.128182\n",
      "iteration 100 / 1500: loss 208.097020\n",
      "iteration 200 / 1500: loss 29.682746\n",
      "iteration 300 / 1500: loss 5.792185\n",
      "iteration 400 / 1500: loss 2.649444\n",
      "iteration 500 / 1500: loss 2.162786\n",
      "iteration 600 / 1500: loss 2.151681\n",
      "iteration 700 / 1500: loss 2.080732\n",
      "iteration 800 / 1500: loss 2.127996\n",
      "iteration 900 / 1500: loss 2.088200\n",
      "iteration 1000 / 1500: loss 2.135699\n",
      "iteration 1100 / 1500: loss 2.106187\n",
      "iteration 1200 / 1500: loss 2.151789\n",
      "iteration 1300 / 1500: loss 2.149385\n",
      "iteration 1400 / 1500: loss 2.170466\n",
      "train accuracy: 0.3149\n",
      "validation accuracy: 0.3290\n",
      "**********************************\n",
      " lr: 0.00000050, reg: 25000.00\n",
      "iteration 0 / 1500: loss 766.562701\n",
      "iteration 100 / 1500: loss 6.884872\n",
      "iteration 200 / 1500: loss 2.097457\n",
      "iteration 300 / 1500: loss 2.073683\n",
      "iteration 400 / 1500: loss 2.064983\n",
      "iteration 500 / 1500: loss 2.092717\n",
      "iteration 600 / 1500: loss 2.064929\n",
      "iteration 700 / 1500: loss 2.094151\n",
      "iteration 800 / 1500: loss 2.121081\n",
      "iteration 900 / 1500: loss 2.157181\n",
      "iteration 1000 / 1500: loss 2.055657\n",
      "iteration 1100 / 1500: loss 2.098634\n",
      "iteration 1200 / 1500: loss 2.079361\n",
      "iteration 1300 / 1500: loss 2.096531\n",
      "iteration 1400 / 1500: loss 2.059443\n",
      "train accuracy: 0.3161\n",
      "validation accuracy: 0.3430\n",
      "**********************************\n",
      " lr: 0.00000050, reg: 50000.00\n",
      "iteration 0 / 1500: loss 1542.113969\n",
      "iteration 100 / 1500: loss 2.218274\n",
      "iteration 200 / 1500: loss 2.146448\n",
      "iteration 300 / 1500: loss 2.137521\n",
      "iteration 400 / 1500: loss 2.155901\n",
      "iteration 500 / 1500: loss 2.139784\n",
      "iteration 600 / 1500: loss 2.177981\n",
      "iteration 700 / 1500: loss 2.169112\n",
      "iteration 800 / 1500: loss 2.194484\n",
      "iteration 900 / 1500: loss 2.136445\n",
      "iteration 1000 / 1500: loss 2.175304\n",
      "iteration 1100 / 1500: loss 2.136803\n",
      "iteration 1200 / 1500: loss 2.160462\n",
      "iteration 1300 / 1500: loss 2.164127\n",
      "iteration 1400 / 1500: loss 2.129212\n",
      "train accuracy: 0.3065\n",
      "validation accuracy: 0.3190\n",
      "lr 1.000000e-07 reg 2.500000e+04 train accuracy: 0.330776 val accuracy: 0.341000\n",
      "lr 1.000000e-07 reg 5.000000e+04 train accuracy: 0.314878 val accuracy: 0.329000\n",
      "lr 5.000000e-07 reg 2.500000e+04 train accuracy: 0.316082 val accuracy: 0.343000\n",
      "lr 5.000000e-07 reg 5.000000e+04 train accuracy: 0.306510 val accuracy: 0.319000\n",
      "best validation accuracy achieved during cross-validation: 0.343000\n"
     ]
    }
   ],
   "source": [
    "# Use the validation set to tune hyperparameters (regularization strength and\n",
    "# learning rate). You should experiment with different ranges for the learning\n",
    "# rates and regularization strengths; if you are careful you should be able to\n",
    "# get a classification accuracy of over 0.35 on the validation set.\n",
    "from cs231n.classifiers import Softmax\n",
    "results = {}\n",
    "best_val = -1\n",
    "best_softmax = None\n",
    "learning_rates = [1e-7, 5e-7]\n",
    "regularization_strengths = [2.5e4, 5e4]\n",
    "\n",
    "################################################################################\n",
    "# TODO:                                                                        #\n",
    "# Use the validation set to set the learning rate and regularization strength. #\n",
    "# This should be identical to the validation that you did for the SVM; save    #\n",
    "# the best trained softmax classifer in best_softmax.                          #\n",
    "################################################################################\n",
    "# *****START OF YOUR CODE (DO NOT DELETE/MODIFY THIS LINE)*****\n",
    "def compute_accuracy(y, y_pred):\n",
    "    return np.mean(y == y_pred)\n",
    "\n",
    "for lr in learning_rates:\n",
    "    for reg in regularization_strengths:\n",
    "        \n",
    "        # train softmax classifier\n",
    "        print (\"**********************************\")\n",
    "        print (\" lr: %.8f, reg: %.2f\" %(lr, reg) )\n",
    "        model = Softmax()\n",
    "        model.train(X_train, y_train, learning_rate=lr, reg=reg, num_iters=1500, verbose=True)\n",
    "\n",
    "        # compute accuracy\n",
    "        train_accuracy = compute_accuracy(y_train, model.predict(X_train))\n",
    "        val_accuracy = compute_accuracy(y_val, model.predict(X_val))\n",
    "        print ('train accuracy: %.4f' %train_accuracy)\n",
    "        print ('validation accuracy: %.4f' %val_accuracy)\n",
    "\n",
    "        # store accuracy in dictionary\n",
    "        results[(lr, reg)] = (train_accuracy, val_accuracy)\n",
    "\n",
    "        # check if validation accuracy is best\n",
    "        if val_accuracy > best_val:\n",
    "            best_val = val_accuracy\n",
    "            best_softmax = model\n",
    "        \n",
    "\n",
    "# *****END OF YOUR CODE (DO NOT DELETE/MODIFY THIS LINE)*****\n",
    "    \n",
    "# Print out results.\n",
    "for lr, reg in sorted(results):\n",
    "    train_accuracy, val_accuracy = results[(lr, reg)]\n",
    "    print('lr %e reg %e train accuracy: %f val accuracy: %f' % (\n",
    "                lr, reg, train_accuracy, val_accuracy))\n",
    "    \n",
    "print('best validation accuracy achieved during cross-validation: %f' % best_val)"
   ]
  },
  {
   "cell_type": "code",
   "execution_count": 9,
   "metadata": {},
   "outputs": [
    {
     "name": "stdout",
     "output_type": "stream",
     "text": [
      "softmax on raw pixels final test set accuracy: 0.325000\n"
     ]
    }
   ],
   "source": [
    "# evaluate on test set\n",
    "# Evaluate the best softmax on test set\n",
    "y_test_pred = best_softmax.predict(X_test)\n",
    "test_accuracy = np.mean(y_test == y_test_pred)\n",
    "print('softmax on raw pixels final test set accuracy: %f' % (test_accuracy, ))"
   ]
  },
  {
   "cell_type": "markdown",
   "metadata": {
    "tags": [
     "pdf-inline"
    ]
   },
   "source": [
    "**Inline Question 2** - *True or False*\n",
    "\n",
    "Suppose the overall training loss is defined as the sum of the per-datapoint loss over all training examples. It is possible to add a new datapoint to a training set that would leave the SVM loss unchanged, but this is not the case with the Softmax classifier loss.\n",
    "\n",
    "$\\color{blue}{\\textit Your Answer:}$ YES.\n",
    "\n",
    "\n",
    "$\\color{blue}{\\textit Your Explanation:}$ SVM classifier only requires that the 'correct-class' value be more than the other classes by atleast 'delta' (eg : 1), hence even if a new datapoint is added to the training set, it doesn't necessarily have to change the SVM loss. The Softmax classifier, on the other hand, takes into the account the class score of only the correct class, which can change if a new datapoint is added.  \n",
    "\n"
   ]
  },
  {
   "cell_type": "code",
   "execution_count": 8,
   "metadata": {},
   "outputs": [
    {
     "data": {
      "image/png": "[encoded data removed]",
      "text/plain": [
       "<Figure size 432x288 with 10 Axes>"
      ]
     },
     "metadata": {
      "needs_background": "light"
     },
     "output_type": "display_data"
    }
   ],
   "source": [
    "# Visualize the learned weights for each class\n",
    "w = best_softmax.W[:-1,:] # strip out the bias\n",
    "w = w.reshape(32, 32, 3, 10)\n",
    "\n",
    "w_min, w_max = np.min(w), np.max(w)\n",
    "\n",
    "classes = ['plane', 'car', 'bird', 'cat', 'deer', 'dog', 'frog', 'horse', 'ship', 'truck']\n",
    "for i in range(10):\n",
    "    plt.subplot(2, 5, i + 1)\n",
    "    \n",
    "    # Rescale the weights to be between 0 and 255\n",
    "    wimg = 255.0 * (w[:, :, :, i].squeeze() - w_min) / (w_max - w_min)\n",
    "    plt.imshow(wimg.astype('uint8'))\n",
    "    plt.axis('off')\n",
    "    plt.title(classes[i])"
   ]
  },
  {
   "cell_type": "code",
   "execution_count": null,
   "metadata": {},
   "outputs": [],
   "source": []
  }
 ],
 "metadata": {
  "kernelspec": {
   "display_name": "Python 3",
   "language": "python",
   "name": "python3"
  },
  "language_info": {
   "codemirror_mode": {
    "name": "ipython",
    "version": 3
   },
   "file_extension": ".py",
   "mimetype": "text/x-python",
   "name": "python",
   "nbconvert_exporter": "python",
   "pygments_lexer": "ipython3",
   "version": "3.7.3"
  }
 },
 "nbformat": 4,
 "nbformat_minor": 1
}
